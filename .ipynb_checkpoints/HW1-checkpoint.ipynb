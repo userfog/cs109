{
 "metadata": {
  "name": "",
  "signature": "sha256:a0ac531c92b0a955423d37a06148201eed0fac44d99e03d3f68bd46c1ec1749e"
 },
 "nbformat": 3,
 "nbformat_minor": 0,
 "worksheets": [
  {
   "cells": [
    {
     "cell_type": "markdown",
     "metadata": {},
     "source": [
      "# Homework 1. Exploratory Data Analysis\n",
      "\n",
      "Due: Thursday, September 18, 2014 11:59 PM\n",
      "\n",
      "<a href=https://raw.githubusercontent.com/cs109/2014/master/homework/HW1.ipynb download=HW1.ipynb> Download this assignment</a>\n",
      "\n",
      "---"
     ]
    },
    {
     "cell_type": "markdown",
     "metadata": {},
     "source": [
      "## Introduction\n",
      "\n",
      "In this homework we ask you three questions that we expect you to answer using data. For each question we ask you to complete a series of tasks that should help guide you through the data analysis. Complete these tasks and then write a short (100 words or less) answer to the question.\n",
      "\n",
      "**Note**: We will briefly discuss this homework assignment on Thursday in class.\n",
      "\n",
      "#### Data\n",
      "For this assignment we will use two databases: \n",
      "\n",
      "1. The [Sean Lahman's Baseball Database](http://seanlahman.com/baseball-archive/statistics) which contains the \"complete batting and pitching statistics from 1871 to 2013, plus fielding statistics, standings, team stats, managerial records, post-season data, and more. For more details on the latest release, please [read the documentation](http://seanlahman.com/files/database/readme2012.txt).\"\n",
      "\n",
      "2. [Gapminder](http://www.gapminder.org) is a great resource that contains over [500 data sets](http://www.gapminder.org/data/) related to world indicators such as income, GDP and life expectancy. \n",
      "\n",
      "\n",
      "#### Purpose\n",
      "\n",
      "In this assignment, you will learn how to: \n",
      "\n",
      "a. Load in CSV files from the web. \n",
      "\n",
      "b. Create functions in python. \n",
      "\n",
      "C. Create plots and summary statistics for exploratory data analysis such as histograms, boxplots and scatter plots. \n",
      "\n",
      "\n",
      "#### Useful libraries for this assignment \n",
      "\n",
      "* [numpy](http://docs.scipy.org/doc/numpy-dev/user/index.html), for arrays\n",
      "* [pandas](http://pandas.pydata.org/), for data frames\n",
      "* [matplotlib](http://matplotlib.org/), for plotting\n",
      "\n",
      "---"
     ]
    },
    {
     "cell_type": "code",
     "collapsed": false,
     "input": [
      "# special IPython command to prepare the notebook for matplotlib\n",
      "%matplotlib inline \n",
      "\n",
      "%matplotlib inline \n",
      "\n",
      "import numpy as np\n",
      "import pandas as pd\n",
      "import matplotlib.pyplot as plt\n",
      "# Originally found in 2013 solutions to problem 2\n",
      "from matplotlib import rcParams\n",
      "import matplotlib.cm as cm\n",
      "import matplotlib as mpl\n",
      "import requests\n",
      "import zipfile\n",
      "import pprint\n",
      "import copy\n",
      "from StringIO import StringIO\n",
      "pp = pprint.PrettyPrinter(indent=4)"
     ],
     "language": "python",
     "metadata": {},
     "outputs": [],
     "prompt_number": 1
    },
    {
     "cell_type": "markdown",
     "metadata": {},
     "source": [
      "## Problem 1\n",
      "\n",
      "In Lecture 1, we showed a plot that provided evidence that the 2002 and 2003 Oakland A's, a team that used data science, had a competitive advantage. Since, others teams have started using data science as well. Use exploratory data analysis to determine if the competitive advantage has since disappeared. "
     ]
    },
    {
     "cell_type": "markdown",
     "metadata": {},
     "source": [
      "#### Problem 1(a) \n",
      "Load in [these CSV files](http://seanlahman.com/files/database/lahman-csv_2014-02-14.zip) from the [Sean Lahman's Baseball Database](http://seanlahman.com/baseball-archive/statistics). For this assignment, we will use the 'Salaries.csv' and 'Teams.csv' tables. Read these tables into a pandas `DataFrame` and show the head of each table. \n",
      "\n",
      "**Hint** Use the [requests](http://docs.python-requests.org/en/latest/), [StringIO](http://docs.python.org/2/library/stringio.html) and [zipfile](https://docs.python.org/2/library/zipfile.html) modules to get from the web.  "
     ]
    },
    {
     "cell_type": "code",
     "collapsed": false,
     "input": [
      "r = requests.get(\"http://seanlahman.com/files/database/lahman-csv_2014-02-14.zip\")\n",
      "\n",
      "if r.status_code != 200:\n",
      "    print \"Unable to get files\"\n",
      "    exit(0)\n",
      "\n",
      "zf = zipfile.ZipFile(StringIO(r.content), \"r\")\n",
      "salaries_df = pd.read_csv(StringIO(zf.open(\"Salaries.csv\", \"rU\").read()))\n",
      "teams_df = pd.read_csv(StringIO(zf.open(\"Teams.csv\", \"rU\").read()))\n",
      "\n",
      "# salaries_df.head()\n",
      "teams_df.head()\n",
      " "
     ],
     "language": "python",
     "metadata": {},
     "outputs": [
      {
       "html": [
        "<div style=\"max-height:1000px;max-width:1500px;overflow:auto;\">\n",
        "<table border=\"1\" class=\"dataframe\">\n",
        "  <thead>\n",
        "    <tr style=\"text-align: right;\">\n",
        "      <th></th>\n",
        "      <th>yearID</th>\n",
        "      <th>lgID</th>\n",
        "      <th>teamID</th>\n",
        "      <th>franchID</th>\n",
        "      <th>divID</th>\n",
        "      <th>Rank</th>\n",
        "      <th>G</th>\n",
        "      <th>Ghome</th>\n",
        "      <th>W</th>\n",
        "      <th>L</th>\n",
        "      <th>...</th>\n",
        "      <th>DP</th>\n",
        "      <th>FP</th>\n",
        "      <th>name</th>\n",
        "      <th>park</th>\n",
        "      <th>attendance</th>\n",
        "      <th>BPF</th>\n",
        "      <th>PPF</th>\n",
        "      <th>teamIDBR</th>\n",
        "      <th>teamIDlahman45</th>\n",
        "      <th>teamIDretro</th>\n",
        "    </tr>\n",
        "  </thead>\n",
        "  <tbody>\n",
        "    <tr>\n",
        "      <th>0</th>\n",
        "      <td> 1871</td>\n",
        "      <td> NaN</td>\n",
        "      <td> PH1</td>\n",
        "      <td> PNA</td>\n",
        "      <td> NaN</td>\n",
        "      <td> 1</td>\n",
        "      <td> 28</td>\n",
        "      <td>NaN</td>\n",
        "      <td> 21</td>\n",
        "      <td>  7</td>\n",
        "      <td>...</td>\n",
        "      <td>NaN</td>\n",
        "      <td> 0.84</td>\n",
        "      <td>  Philadelphia Athletics</td>\n",
        "      <td> Jefferson Street Grounds</td>\n",
        "      <td>NaN</td>\n",
        "      <td> 102</td>\n",
        "      <td>  98</td>\n",
        "      <td> ATH</td>\n",
        "      <td> PH1</td>\n",
        "      <td> PH1</td>\n",
        "    </tr>\n",
        "    <tr>\n",
        "      <th>1</th>\n",
        "      <td> 1871</td>\n",
        "      <td> NaN</td>\n",
        "      <td> CH1</td>\n",
        "      <td> CNA</td>\n",
        "      <td> NaN</td>\n",
        "      <td> 2</td>\n",
        "      <td> 28</td>\n",
        "      <td>NaN</td>\n",
        "      <td> 19</td>\n",
        "      <td>  9</td>\n",
        "      <td>...</td>\n",
        "      <td>NaN</td>\n",
        "      <td> 0.82</td>\n",
        "      <td> Chicago White Stockings</td>\n",
        "      <td>  Union Base-Ball Grounds</td>\n",
        "      <td>NaN</td>\n",
        "      <td> 104</td>\n",
        "      <td> 102</td>\n",
        "      <td> CHI</td>\n",
        "      <td> CH1</td>\n",
        "      <td> CH1</td>\n",
        "    </tr>\n",
        "    <tr>\n",
        "      <th>2</th>\n",
        "      <td> 1871</td>\n",
        "      <td> NaN</td>\n",
        "      <td> BS1</td>\n",
        "      <td> BNA</td>\n",
        "      <td> NaN</td>\n",
        "      <td> 3</td>\n",
        "      <td> 31</td>\n",
        "      <td>NaN</td>\n",
        "      <td> 20</td>\n",
        "      <td> 10</td>\n",
        "      <td>...</td>\n",
        "      <td>NaN</td>\n",
        "      <td> 0.83</td>\n",
        "      <td>    Boston Red Stockings</td>\n",
        "      <td>      South End Grounds I</td>\n",
        "      <td>NaN</td>\n",
        "      <td> 103</td>\n",
        "      <td>  98</td>\n",
        "      <td> BOS</td>\n",
        "      <td> BS1</td>\n",
        "      <td> BS1</td>\n",
        "    </tr>\n",
        "    <tr>\n",
        "      <th>3</th>\n",
        "      <td> 1871</td>\n",
        "      <td> NaN</td>\n",
        "      <td> WS3</td>\n",
        "      <td> OLY</td>\n",
        "      <td> NaN</td>\n",
        "      <td> 4</td>\n",
        "      <td> 32</td>\n",
        "      <td>NaN</td>\n",
        "      <td> 15</td>\n",
        "      <td> 15</td>\n",
        "      <td>...</td>\n",
        "      <td>NaN</td>\n",
        "      <td> 0.85</td>\n",
        "      <td>     Washington Olympics</td>\n",
        "      <td>         Olympics Grounds</td>\n",
        "      <td>NaN</td>\n",
        "      <td>  94</td>\n",
        "      <td>  98</td>\n",
        "      <td> OLY</td>\n",
        "      <td> WS3</td>\n",
        "      <td> WS3</td>\n",
        "    </tr>\n",
        "    <tr>\n",
        "      <th>4</th>\n",
        "      <td> 1871</td>\n",
        "      <td> NaN</td>\n",
        "      <td> NY2</td>\n",
        "      <td> NNA</td>\n",
        "      <td> NaN</td>\n",
        "      <td> 5</td>\n",
        "      <td> 33</td>\n",
        "      <td>NaN</td>\n",
        "      <td> 16</td>\n",
        "      <td> 17</td>\n",
        "      <td>...</td>\n",
        "      <td>NaN</td>\n",
        "      <td> 0.83</td>\n",
        "      <td>        New York Mutuals</td>\n",
        "      <td> Union Grounds (Brooklyn)</td>\n",
        "      <td>NaN</td>\n",
        "      <td>  90</td>\n",
        "      <td>  88</td>\n",
        "      <td> NYU</td>\n",
        "      <td> NY2</td>\n",
        "      <td> NY2</td>\n",
        "    </tr>\n",
        "  </tbody>\n",
        "</table>\n",
        "<p>5 rows \u00d7 48 columns</p>\n",
        "</div>"
       ],
       "metadata": {},
       "output_type": "pyout",
       "prompt_number": 2,
       "text": [
        "   yearID lgID teamID franchID divID  Rank   G  Ghome   W   L ...  DP    FP  \\\n",
        "0    1871  NaN    PH1      PNA   NaN     1  28    NaN  21   7 ... NaN  0.84   \n",
        "1    1871  NaN    CH1      CNA   NaN     2  28    NaN  19   9 ... NaN  0.82   \n",
        "2    1871  NaN    BS1      BNA   NaN     3  31    NaN  20  10 ... NaN  0.83   \n",
        "3    1871  NaN    WS3      OLY   NaN     4  32    NaN  15  15 ... NaN  0.85   \n",
        "4    1871  NaN    NY2      NNA   NaN     5  33    NaN  16  17 ... NaN  0.83   \n",
        "\n",
        "                      name                      park  attendance  BPF  PPF  \\\n",
        "0   Philadelphia Athletics  Jefferson Street Grounds         NaN  102   98   \n",
        "1  Chicago White Stockings   Union Base-Ball Grounds         NaN  104  102   \n",
        "2     Boston Red Stockings       South End Grounds I         NaN  103   98   \n",
        "3      Washington Olympics          Olympics Grounds         NaN   94   98   \n",
        "4         New York Mutuals  Union Grounds (Brooklyn)         NaN   90   88   \n",
        "\n",
        "   teamIDBR  teamIDlahman45  teamIDretro  \n",
        "0       ATH             PH1          PH1  \n",
        "1       CHI             CH1          CH1  \n",
        "2       BOS             BS1          BS1  \n",
        "3       OLY             WS3          WS3  \n",
        "4       NYU             NY2          NY2  \n",
        "\n",
        "[5 rows x 48 columns]"
       ]
      }
     ],
     "prompt_number": 2
    },
    {
     "cell_type": "markdown",
     "metadata": {},
     "source": [
      "#### Problem 1(b)\n",
      "\n",
      "Summarize the Salaries DataFrame to show the total salaries for each team for each year. Show the head of the new summarized DataFrame. "
     ]
    },
    {
     "cell_type": "code",
     "collapsed": false,
     "input": [
      "summary_salaries = salaries_df.groupby([\"teamID\", \"yearID\"]).sum()\n",
      "summary_salaries.head()"
     ],
     "language": "python",
     "metadata": {},
     "outputs": [
      {
       "html": [
        "<div style=\"max-height:1000px;max-width:1500px;overflow:auto;\">\n",
        "<table border=\"1\" class=\"dataframe\">\n",
        "  <thead>\n",
        "    <tr style=\"text-align: right;\">\n",
        "      <th></th>\n",
        "      <th></th>\n",
        "      <th>salary</th>\n",
        "    </tr>\n",
        "    <tr>\n",
        "      <th>teamID</th>\n",
        "      <th>yearID</th>\n",
        "      <th></th>\n",
        "    </tr>\n",
        "  </thead>\n",
        "  <tbody>\n",
        "    <tr>\n",
        "      <th rowspan=\"5\" valign=\"top\">ANA</th>\n",
        "      <th>1997</th>\n",
        "      <td> 31135472</td>\n",
        "    </tr>\n",
        "    <tr>\n",
        "      <th>1998</th>\n",
        "      <td> 41281000</td>\n",
        "    </tr>\n",
        "    <tr>\n",
        "      <th>1999</th>\n",
        "      <td> 55388166</td>\n",
        "    </tr>\n",
        "    <tr>\n",
        "      <th>2000</th>\n",
        "      <td> 51464167</td>\n",
        "    </tr>\n",
        "    <tr>\n",
        "      <th>2001</th>\n",
        "      <td> 47535167</td>\n",
        "    </tr>\n",
        "  </tbody>\n",
        "</table>\n",
        "</div>"
       ],
       "metadata": {},
       "output_type": "pyout",
       "prompt_number": 3,
       "text": [
        "                 salary\n",
        "teamID yearID          \n",
        "ANA    1997    31135472\n",
        "       1998    41281000\n",
        "       1999    55388166\n",
        "       2000    51464167\n",
        "       2001    47535167"
       ]
      }
     ],
     "prompt_number": 3
    },
    {
     "cell_type": "markdown",
     "metadata": {},
     "source": [
      "#### Problem 1(c)\n",
      "\n",
      "Merge the new summarized Salaries DataFrame and Teams DataFrame together to create a new DataFrame\n",
      "showing wins and total salaries for each team for each year year. Show the head of the new merged DataFrame.\n",
      "\n",
      "**Hint**: Merge the DataFrames using `teamID` and `yearID`."
     ]
    },
    {
     "cell_type": "code",
     "collapsed": false,
     "input": [
      "#your code here\n",
      "wins = teams_df.groupby([\"teamID\", \"yearID\", \"W\"]).sum()\n",
      "wins = wins.reset_index()\n",
      "summary_salaries = summary_salaries.reset_index()\n",
      "combine = pd.merge(wins, summary_salaries,\n",
      "              left_on=[\"teamID\", \"yearID\"],\n",
      "              right_on=[\"teamID\", \"yearID\"],\n",
      "              how='inner')\n",
      "combine=combine.reset_index()\n",
      "combine[[\"teamID\", \"yearID\", \"W\", \"salary\"]].head()\n",
      "\n"
     ],
     "language": "python",
     "metadata": {},
     "outputs": [
      {
       "html": [
        "<div style=\"max-height:1000px;max-width:1500px;overflow:auto;\">\n",
        "<table border=\"1\" class=\"dataframe\">\n",
        "  <thead>\n",
        "    <tr style=\"text-align: right;\">\n",
        "      <th></th>\n",
        "      <th>teamID</th>\n",
        "      <th>yearID</th>\n",
        "      <th>W</th>\n",
        "      <th>salary</th>\n",
        "    </tr>\n",
        "  </thead>\n",
        "  <tbody>\n",
        "    <tr>\n",
        "      <th>0</th>\n",
        "      <td> ANA</td>\n",
        "      <td> 1997</td>\n",
        "      <td> 84</td>\n",
        "      <td> 31135472</td>\n",
        "    </tr>\n",
        "    <tr>\n",
        "      <th>1</th>\n",
        "      <td> ANA</td>\n",
        "      <td> 1998</td>\n",
        "      <td> 85</td>\n",
        "      <td> 41281000</td>\n",
        "    </tr>\n",
        "    <tr>\n",
        "      <th>2</th>\n",
        "      <td> ANA</td>\n",
        "      <td> 1999</td>\n",
        "      <td> 70</td>\n",
        "      <td> 55388166</td>\n",
        "    </tr>\n",
        "    <tr>\n",
        "      <th>3</th>\n",
        "      <td> ANA</td>\n",
        "      <td> 2000</td>\n",
        "      <td> 82</td>\n",
        "      <td> 51464167</td>\n",
        "    </tr>\n",
        "    <tr>\n",
        "      <th>4</th>\n",
        "      <td> ANA</td>\n",
        "      <td> 2001</td>\n",
        "      <td> 75</td>\n",
        "      <td> 47535167</td>\n",
        "    </tr>\n",
        "  </tbody>\n",
        "</table>\n",
        "</div>"
       ],
       "metadata": {},
       "output_type": "pyout",
       "prompt_number": 4,
       "text": [
        "  teamID  yearID   W    salary\n",
        "0    ANA    1997  84  31135472\n",
        "1    ANA    1998  85  41281000\n",
        "2    ANA    1999  70  55388166\n",
        "3    ANA    2000  82  51464167\n",
        "4    ANA    2001  75  47535167"
       ]
      }
     ],
     "prompt_number": 4
    },
    {
     "cell_type": "markdown",
     "metadata": {},
     "source": [
      "#### Problem 1(d)\n",
      "\n",
      "How would you graphically display the relationship between total wins and total salaries for a given year? What kind of plot would be best? Choose a plot to show this relationship and specifically annotate the Oakland baseball team on the on the plot. Show this plot across multiple years. In which years can you detect a competitive advantage from the Oakland baseball team of using data science? When did this end? \n",
      "\n",
      "**Hints**: Use a `for` loop to consider multiple years. Use the `teamID` (three letter representation of the team name) to save space on the plot.  "
     ]
    },
    {
     "cell_type": "code",
     "collapsed": false,
     "input": [
      "years = combine[[\"teamID\", \"yearID\", \"W\", \"salary\"]]\n",
      "years.head()\n",
      "groups = years.groupby(\"teamID\")\n",
      "plt.close('all')\n",
      "fig = plt.figure()\n",
      "i = 0\n",
      "for el in xrange(1995,2000):\n",
      "    plt.figure(el)\n",
      "    plt.suptitle(str(el))\n",
      "    for el2, val in groups:\n",
      "      for year in val.iterrows():\n",
      "            if year[1][1] == el:\n",
      "                if el2 == \"OAK\":\n",
      "                    plt.annotate(el2, xy=(year[1][3]/1000000, year[1][2]))\n",
      "                else:\n",
      "                    plt.plot(year[1][3]/1000000, year[1][2], marker=\"o\",markersize=2, linestyle='', label=el2)\n",
      "    i = i + 1\n",
      "\n",
      "plt.show()\n",
      "    "
     ],
     "language": "python",
     "metadata": {},
     "outputs": [
      {
       "metadata": {},
       "output_type": "display_data",
       "text": [
        "<matplotlib.figure.Figure at 0xe6bca58>"
       ]
      },
      {
       "metadata": {},
       "output_type": "display_data",
       "png": "[encoded data removed]",
       "text": [
        "<matplotlib.figure.Figure at 0xe6bc860>"
       ]
      },
      {
       "metadata": {},
       "output_type": "display_data",
       "png": "[encoded data removed]",
       "text": [
        "<matplotlib.figure.Figure at 0xe6bcf60>"
       ]
      },
      {
       "metadata": {},
       "output_type": "display_data",
       "png": "[encoded data removed]",
       "text": [
        "<matplotlib.figure.Figure at 0xe6bc2b0>"
       ]
      },
      {
       "metadata": {},
       "output_type": "display_data",
       "png": "[encoded data removed]",
       "text": [
        "<matplotlib.figure.Figure at 0xe8d2ac8>"
       ]
      },
      {
       "metadata": {},
       "output_type": "display_data",
       "png": "[encoded data removed]",
       "text": [
        "<matplotlib.figure.Figure at 0xe270f28>"
       ]
      }
     ],
     "prompt_number": 21
    },
    {
     "cell_type": "markdown",
     "metadata": {},
     "source": [
      "#### Problem 1(e):\n",
      "\n",
      "**For AC209 Students**: Fit a linear regression to the data from each year and obtain the residuals. Plot the residuals against time to detect patterns that support your answer in 1(d). "
     ]
    },
    {
     "cell_type": "code",
     "collapsed": false,
     "input": [
      "#your code here\n"
     ],
     "language": "python",
     "metadata": {},
     "outputs": [],
     "prompt_number": 6
    },
    {
     "cell_type": "markdown",
     "metadata": {},
     "source": [
      "## Discussion for Problem 1\n",
      "\n",
      "*Write a brief discussion of your conclusions to the questions and tasks above in 100 words or less.*\n",
      "\n",
      "---\n"
     ]
    },
    {
     "cell_type": "markdown",
     "metadata": {},
     "source": [
      "## Problem 2\n",
      "\n",
      "Several media reports have demonstrated the income inequality has increased in the US during this last decade. Here we will look at global data. Use exploratory data analysis to determine if the gap between Africa/Latin America/Asia and Europe/NorthAmerica has increased, decreased or stayed the same during the last two decades. "
     ]
    },
    {
     "cell_type": "markdown",
     "metadata": {},
     "source": [
      "#### Problem 2(a)\n",
      "\n",
      "Using the list of countries by continent from [World Atlas](http://www.worldatlas.com/cntycont.htm) data, load in the `countries.csv` file into a pandas DataFrame and name this data set as `countries`.  This data set can be found on Github in the 2014_data repository [here](https://github.com/cs109/2014_data/blob/master/countries.csv). "
     ]
    },
    {
     "cell_type": "code",
     "collapsed": false,
     "input": [
      "r = requests.get(\"https://raw.githubusercontent.com/cs109/2014_data/master/countries.csv\")\n",
      "if r.status_code != 200:\n",
      "    print \"Unable to get files\"\n",
      "    exit(0)\n",
      "    \n",
      "countries = pd.read_csv(StringIO(r.content))\n",
      "countries.head()"
     ],
     "language": "python",
     "metadata": {},
     "outputs": [
      {
       "html": [
        "<div style=\"max-height:1000px;max-width:1500px;overflow:auto;\">\n",
        "<table border=\"1\" class=\"dataframe\">\n",
        "  <thead>\n",
        "    <tr style=\"text-align: right;\">\n",
        "      <th></th>\n",
        "      <th>Country</th>\n",
        "      <th>Region</th>\n",
        "    </tr>\n",
        "  </thead>\n",
        "  <tbody>\n",
        "    <tr>\n",
        "      <th>0</th>\n",
        "      <td>  Algeria</td>\n",
        "      <td> AFRICA</td>\n",
        "    </tr>\n",
        "    <tr>\n",
        "      <th>1</th>\n",
        "      <td>   Angola</td>\n",
        "      <td> AFRICA</td>\n",
        "    </tr>\n",
        "    <tr>\n",
        "      <th>2</th>\n",
        "      <td>    Benin</td>\n",
        "      <td> AFRICA</td>\n",
        "    </tr>\n",
        "    <tr>\n",
        "      <th>3</th>\n",
        "      <td> Botswana</td>\n",
        "      <td> AFRICA</td>\n",
        "    </tr>\n",
        "    <tr>\n",
        "      <th>4</th>\n",
        "      <td>  Burkina</td>\n",
        "      <td> AFRICA</td>\n",
        "    </tr>\n",
        "  </tbody>\n",
        "</table>\n",
        "</div>"
       ],
       "metadata": {},
       "output_type": "pyout",
       "prompt_number": 22,
       "text": [
        "    Country  Region\n",
        "0   Algeria  AFRICA\n",
        "1    Angola  AFRICA\n",
        "2     Benin  AFRICA\n",
        "3  Botswana  AFRICA\n",
        "4   Burkina  AFRICA"
       ]
      }
     ],
     "prompt_number": 22
    },
    {
     "cell_type": "markdown",
     "metadata": {},
     "source": [
      "Using the [data available on Gapminder](http://www.gapminder.org/data/), load in the [Income per person (GDP/capita, PPP$ inflation-adjusted)](https://spreadsheets.google.com/pub?key=phAwcNAVuyj1jiMAkmq1iMg&gid=0) as a pandas DataFrame and name this data set as `income`.\n",
      "\n",
      "**Hint**: Consider using the pandas function `pandas.read_excel()` to read in the .xlsx file directly."
     ]
    },
    {
     "cell_type": "code",
     "collapsed": false,
     "input": [
      "r = requests.get(\"https://spreadsheets.google.com/pub?key=phAwcNAVuyj1jiMAkmq1iMg&gid=0&output=xls\")\n",
      "if r.status_code != 200:\n",
      "    print \"Unable to get files\"\n",
      "    exit(0)\n",
      "\n",
      "income_per_person = pd.read_excel(StringIO(r.content))\n",
      "income_per_person.head()\n"
     ],
     "language": "python",
     "metadata": {},
     "outputs": [
      {
       "html": [
        "<div style=\"max-height:1000px;max-width:1500px;overflow:auto;\">\n",
        "<table border=\"1\" class=\"dataframe\">\n",
        "  <thead>\n",
        "    <tr style=\"text-align: right;\">\n",
        "      <th></th>\n",
        "      <th>gdp pc test</th>\n",
        "      <th>1800</th>\n",
        "      <th>1801</th>\n",
        "      <th>1802</th>\n",
        "      <th>1803</th>\n",
        "      <th>1804</th>\n",
        "      <th>1805</th>\n",
        "      <th>1806</th>\n",
        "      <th>1807</th>\n",
        "      <th>1808</th>\n",
        "      <th>...</th>\n",
        "      <th>2003</th>\n",
        "      <th>2004</th>\n",
        "      <th>2005</th>\n",
        "      <th>2006</th>\n",
        "      <th>2007</th>\n",
        "      <th>2008</th>\n",
        "      <th>2009</th>\n",
        "      <th>2010</th>\n",
        "      <th>2011</th>\n",
        "      <th>2012</th>\n",
        "    </tr>\n",
        "  </thead>\n",
        "  <tbody>\n",
        "    <tr>\n",
        "      <th>0</th>\n",
        "      <td>              Abkhazia</td>\n",
        "      <td>        NaN</td>\n",
        "      <td>        NaN</td>\n",
        "      <td>        NaN</td>\n",
        "      <td>        NaN</td>\n",
        "      <td>        NaN</td>\n",
        "      <td>        NaN</td>\n",
        "      <td>        NaN</td>\n",
        "      <td>        NaN</td>\n",
        "      <td>        NaN</td>\n",
        "      <td>...</td>\n",
        "      <td>         NaN</td>\n",
        "      <td>         NaN</td>\n",
        "      <td>  NaN</td>\n",
        "      <td>         NaN</td>\n",
        "      <td>         NaN</td>\n",
        "      <td>         NaN</td>\n",
        "      <td>         NaN</td>\n",
        "      <td>         NaN</td>\n",
        "      <td>         NaN</td>\n",
        "      <td>         NaN</td>\n",
        "    </tr>\n",
        "    <tr>\n",
        "      <th>1</th>\n",
        "      <td>           Afghanistan</td>\n",
        "      <td> 472.053500</td>\n",
        "      <td> 472.053500</td>\n",
        "      <td> 472.053500</td>\n",
        "      <td> 472.053500</td>\n",
        "      <td> 472.053500</td>\n",
        "      <td> 472.053500</td>\n",
        "      <td> 472.053500</td>\n",
        "      <td> 472.053500</td>\n",
        "      <td> 472.053500</td>\n",
        "      <td>...</td>\n",
        "      <td>  785.127571</td>\n",
        "      <td>  804.717458</td>\n",
        "      <td>  874</td>\n",
        "      <td>  887.914578</td>\n",
        "      <td>  983.652314</td>\n",
        "      <td>  984.805841</td>\n",
        "      <td> 1154.859365</td>\n",
        "      <td> 1214.613653</td>\n",
        "      <td> 1261.354184</td>\n",
        "      <td> 1349.696941</td>\n",
        "    </tr>\n",
        "    <tr>\n",
        "      <th>2</th>\n",
        "      <td> Akrotiri and Dhekelia</td>\n",
        "      <td>        NaN</td>\n",
        "      <td>        NaN</td>\n",
        "      <td>        NaN</td>\n",
        "      <td>        NaN</td>\n",
        "      <td>        NaN</td>\n",
        "      <td>        NaN</td>\n",
        "      <td>        NaN</td>\n",
        "      <td>        NaN</td>\n",
        "      <td>        NaN</td>\n",
        "      <td>...</td>\n",
        "      <td>         NaN</td>\n",
        "      <td>         NaN</td>\n",
        "      <td>  NaN</td>\n",
        "      <td>         NaN</td>\n",
        "      <td>         NaN</td>\n",
        "      <td>         NaN</td>\n",
        "      <td>         NaN</td>\n",
        "      <td>         NaN</td>\n",
        "      <td>         NaN</td>\n",
        "      <td>         NaN</td>\n",
        "    </tr>\n",
        "    <tr>\n",
        "      <th>3</th>\n",
        "      <td>               Albania</td>\n",
        "      <td> 601.215222</td>\n",
        "      <td> 601.839631</td>\n",
        "      <td> 602.464688</td>\n",
        "      <td> 603.090394</td>\n",
        "      <td> 603.716751</td>\n",
        "      <td> 604.343757</td>\n",
        "      <td> 604.971415</td>\n",
        "      <td> 605.599725</td>\n",
        "      <td> 606.228687</td>\n",
        "      <td>...</td>\n",
        "      <td> 4855.210024</td>\n",
        "      <td> 5115.252837</td>\n",
        "      <td> 5369</td>\n",
        "      <td> 5652.049321</td>\n",
        "      <td> 5958.021197</td>\n",
        "      <td> 6365.530359</td>\n",
        "      <td> 6550.896164</td>\n",
        "      <td> 6746.445312</td>\n",
        "      <td> 6914.267317</td>\n",
        "      <td> 6969.306283</td>\n",
        "    </tr>\n",
        "    <tr>\n",
        "      <th>4</th>\n",
        "      <td>               Algeria</td>\n",
        "      <td> 766.253664</td>\n",
        "      <td> 766.234779</td>\n",
        "      <td> 766.215895</td>\n",
        "      <td> 766.197011</td>\n",
        "      <td> 766.178127</td>\n",
        "      <td> 766.159244</td>\n",
        "      <td> 766.140362</td>\n",
        "      <td> 766.121480</td>\n",
        "      <td> 766.102598</td>\n",
        "      <td>...</td>\n",
        "      <td> 5576.851564</td>\n",
        "      <td> 5790.967692</td>\n",
        "      <td> 6011</td>\n",
        "      <td> 6022.270940</td>\n",
        "      <td> 6133.782763</td>\n",
        "      <td> 6162.719840</td>\n",
        "      <td> 6173.729741</td>\n",
        "      <td> 6300.648214</td>\n",
        "      <td> 6354.640523</td>\n",
        "      <td> 6419.127829</td>\n",
        "    </tr>\n",
        "  </tbody>\n",
        "</table>\n",
        "<p>5 rows \u00d7 214 columns</p>\n",
        "</div>"
       ],
       "metadata": {},
       "output_type": "pyout",
       "prompt_number": 23,
       "text": [
        "             gdp pc test        1800        1801        1802        1803  \\\n",
        "0               Abkhazia         NaN         NaN         NaN         NaN   \n",
        "1            Afghanistan  472.053500  472.053500  472.053500  472.053500   \n",
        "2  Akrotiri and Dhekelia         NaN         NaN         NaN         NaN   \n",
        "3                Albania  601.215222  601.839631  602.464688  603.090394   \n",
        "4                Algeria  766.253664  766.234779  766.215895  766.197011   \n",
        "\n",
        "         1804        1805        1806        1807        1808     ...      \\\n",
        "0         NaN         NaN         NaN         NaN         NaN     ...       \n",
        "1  472.053500  472.053500  472.053500  472.053500  472.053500     ...       \n",
        "2         NaN         NaN         NaN         NaN         NaN     ...       \n",
        "3  603.716751  604.343757  604.971415  605.599725  606.228687     ...       \n",
        "4  766.178127  766.159244  766.140362  766.121480  766.102598     ...       \n",
        "\n",
        "          2003         2004  2005         2006         2007         2008  \\\n",
        "0          NaN          NaN   NaN          NaN          NaN          NaN   \n",
        "1   785.127571   804.717458   874   887.914578   983.652314   984.805841   \n",
        "2          NaN          NaN   NaN          NaN          NaN          NaN   \n",
        "3  4855.210024  5115.252837  5369  5652.049321  5958.021197  6365.530359   \n",
        "4  5576.851564  5790.967692  6011  6022.270940  6133.782763  6162.719840   \n",
        "\n",
        "          2009         2010         2011         2012  \n",
        "0          NaN          NaN          NaN          NaN  \n",
        "1  1154.859365  1214.613653  1261.354184  1349.696941  \n",
        "2          NaN          NaN          NaN          NaN  \n",
        "3  6550.896164  6746.445312  6914.267317  6969.306283  \n",
        "4  6173.729741  6300.648214  6354.640523  6419.127829  \n",
        "\n",
        "[5 rows x 214 columns]"
       ]
      }
     ],
     "prompt_number": 23
    },
    {
     "cell_type": "markdown",
     "metadata": {},
     "source": [
      "Transform the data set to have years as the rows and countries as the columns. Show the head of this data set when it is loaded. "
     ]
    },
    {
     "cell_type": "code",
     "collapsed": false,
     "input": [
      "income_per_person_trans = income_per_person.T\n",
      "income_per_person_trans.head() "
     ],
     "language": "python",
     "metadata": {},
     "outputs": [
      {
       "html": [
        "<div style=\"max-height:1000px;max-width:1500px;overflow:auto;\">\n",
        "<table border=\"1\" class=\"dataframe\">\n",
        "  <thead>\n",
        "    <tr style=\"text-align: right;\">\n",
        "      <th></th>\n",
        "      <th>0</th>\n",
        "      <th>1</th>\n",
        "      <th>2</th>\n",
        "      <th>3</th>\n",
        "      <th>4</th>\n",
        "      <th>5</th>\n",
        "      <th>6</th>\n",
        "      <th>7</th>\n",
        "      <th>8</th>\n",
        "      <th>9</th>\n",
        "      <th>...</th>\n",
        "      <th>250</th>\n",
        "      <th>251</th>\n",
        "      <th>252</th>\n",
        "      <th>253</th>\n",
        "      <th>254</th>\n",
        "      <th>255</th>\n",
        "      <th>256</th>\n",
        "      <th>257</th>\n",
        "      <th>258</th>\n",
        "      <th>259</th>\n",
        "    </tr>\n",
        "  </thead>\n",
        "  <tbody>\n",
        "    <tr>\n",
        "      <th>gdp pc test</th>\n",
        "      <td> Abkhazia</td>\n",
        "      <td> Afghanistan</td>\n",
        "      <td> Akrotiri and Dhekelia</td>\n",
        "      <td>  Albania</td>\n",
        "      <td>  Algeria</td>\n",
        "      <td> American Samoa</td>\n",
        "      <td>  Andorra</td>\n",
        "      <td>   Angola</td>\n",
        "      <td> Anguilla</td>\n",
        "      <td> Antigua and Barbuda</td>\n",
        "      <td>...</td>\n",
        "      <td> Western Sahara</td>\n",
        "      <td> Vietnam</td>\n",
        "      <td> Virgin Islands (U.S.)</td>\n",
        "      <td> Yemen Arab Republic (Former)</td>\n",
        "      <td> Yemen Democratic (Former)</td>\n",
        "      <td> Yemen, Rep.</td>\n",
        "      <td> Yugoslavia</td>\n",
        "      <td>   Zambia</td>\n",
        "      <td> Zimbabwe</td>\n",
        "      <td> \u00c5land</td>\n",
        "    </tr>\n",
        "    <tr>\n",
        "      <th>1800</th>\n",
        "      <td>      NaN</td>\n",
        "      <td>    472.0535</td>\n",
        "      <td>                   NaN</td>\n",
        "      <td> 601.2152</td>\n",
        "      <td> 766.2537</td>\n",
        "      <td>       674.4537</td>\n",
        "      <td> 1260.123</td>\n",
        "      <td> 359.9326</td>\n",
        "      <td> 775.6687</td>\n",
        "      <td>            538.3762</td>\n",
        "      <td>...</td>\n",
        "      <td>            NaN</td>\n",
        "      <td> 459.709</td>\n",
        "      <td>                   NaN</td>\n",
        "      <td>                          NaN</td>\n",
        "      <td>                       NaN</td>\n",
        "      <td>    661.9024</td>\n",
        "      <td>        NaN</td>\n",
        "      <td> 364.4648</td>\n",
        "      <td> 372.8183</td>\n",
        "      <td>   NaN</td>\n",
        "    </tr>\n",
        "    <tr>\n",
        "      <th>1801</th>\n",
        "      <td>      NaN</td>\n",
        "      <td>    472.0535</td>\n",
        "      <td>                   NaN</td>\n",
        "      <td> 601.8396</td>\n",
        "      <td> 766.2348</td>\n",
        "      <td>       674.4537</td>\n",
        "      <td> 1262.214</td>\n",
        "      <td> 359.9326</td>\n",
        "      <td> 775.6687</td>\n",
        "      <td>            538.3762</td>\n",
        "      <td>...</td>\n",
        "      <td>            NaN</td>\n",
        "      <td> 459.709</td>\n",
        "      <td>                   NaN</td>\n",
        "      <td>                          NaN</td>\n",
        "      <td>                       NaN</td>\n",
        "      <td>    662.0586</td>\n",
        "      <td>        NaN</td>\n",
        "      <td> 364.4648</td>\n",
        "      <td> 372.8183</td>\n",
        "      <td>   NaN</td>\n",
        "    </tr>\n",
        "    <tr>\n",
        "      <th>1802</th>\n",
        "      <td>      NaN</td>\n",
        "      <td>    472.0535</td>\n",
        "      <td>                   NaN</td>\n",
        "      <td> 602.4647</td>\n",
        "      <td> 766.2159</td>\n",
        "      <td>       674.4537</td>\n",
        "      <td> 1264.309</td>\n",
        "      <td> 359.9326</td>\n",
        "      <td> 775.6687</td>\n",
        "      <td>            538.3762</td>\n",
        "      <td>...</td>\n",
        "      <td>            NaN</td>\n",
        "      <td> 459.709</td>\n",
        "      <td>                   NaN</td>\n",
        "      <td>                          NaN</td>\n",
        "      <td>                       NaN</td>\n",
        "      <td>    662.2148</td>\n",
        "      <td>        NaN</td>\n",
        "      <td> 364.4648</td>\n",
        "      <td> 372.8183</td>\n",
        "      <td>   NaN</td>\n",
        "    </tr>\n",
        "    <tr>\n",
        "      <th>1803</th>\n",
        "      <td>      NaN</td>\n",
        "      <td>    472.0535</td>\n",
        "      <td>                   NaN</td>\n",
        "      <td> 603.0904</td>\n",
        "      <td>  766.197</td>\n",
        "      <td>       674.4537</td>\n",
        "      <td> 1266.407</td>\n",
        "      <td> 359.9326</td>\n",
        "      <td> 775.6687</td>\n",
        "      <td>            538.3762</td>\n",
        "      <td>...</td>\n",
        "      <td>            NaN</td>\n",
        "      <td> 459.709</td>\n",
        "      <td>                   NaN</td>\n",
        "      <td>                          NaN</td>\n",
        "      <td>                       NaN</td>\n",
        "      <td>     662.371</td>\n",
        "      <td>        NaN</td>\n",
        "      <td> 364.4648</td>\n",
        "      <td> 372.8183</td>\n",
        "      <td>   NaN</td>\n",
        "    </tr>\n",
        "  </tbody>\n",
        "</table>\n",
        "<p>5 rows \u00d7 260 columns</p>\n",
        "</div>"
       ],
       "metadata": {},
       "output_type": "pyout",
       "prompt_number": 25,
       "text": [
        "                  0            1                      2         3         4    \\\n",
        "gdp pc test  Abkhazia  Afghanistan  Akrotiri and Dhekelia   Albania   Algeria   \n",
        "1800              NaN     472.0535                    NaN  601.2152  766.2537   \n",
        "1801              NaN     472.0535                    NaN  601.8396  766.2348   \n",
        "1802              NaN     472.0535                    NaN  602.4647  766.2159   \n",
        "1803              NaN     472.0535                    NaN  603.0904   766.197   \n",
        "\n",
        "                        5         6         7         8    \\\n",
        "gdp pc test  American Samoa   Andorra    Angola  Anguilla   \n",
        "1800               674.4537  1260.123  359.9326  775.6687   \n",
        "1801               674.4537  1262.214  359.9326  775.6687   \n",
        "1802               674.4537  1264.309  359.9326  775.6687   \n",
        "1803               674.4537  1266.407  359.9326  775.6687   \n",
        "\n",
        "                             9           ...                      250  \\\n",
        "gdp pc test  Antigua and Barbuda         ...           Western Sahara   \n",
        "1800                    538.3762         ...                      NaN   \n",
        "1801                    538.3762         ...                      NaN   \n",
        "1802                    538.3762         ...                      NaN   \n",
        "1803                    538.3762         ...                      NaN   \n",
        "\n",
        "                 251                    252                           253  \\\n",
        "gdp pc test  Vietnam  Virgin Islands (U.S.)  Yemen Arab Republic (Former)   \n",
        "1800         459.709                    NaN                           NaN   \n",
        "1801         459.709                    NaN                           NaN   \n",
        "1802         459.709                    NaN                           NaN   \n",
        "1803         459.709                    NaN                           NaN   \n",
        "\n",
        "                                   254          255         256       257  \\\n",
        "gdp pc test  Yemen Democratic (Former)  Yemen, Rep.  Yugoslavia    Zambia   \n",
        "1800                               NaN     661.9024         NaN  364.4648   \n",
        "1801                               NaN     662.0586         NaN  364.4648   \n",
        "1802                               NaN     662.2148         NaN  364.4648   \n",
        "1803                               NaN      662.371         NaN  364.4648   \n",
        "\n",
        "                  258    259  \n",
        "gdp pc test  Zimbabwe  \u00c5land  \n",
        "1800         372.8183    NaN  \n",
        "1801         372.8183    NaN  \n",
        "1802         372.8183    NaN  \n",
        "1803         372.8183    NaN  \n",
        "\n",
        "[5 rows x 260 columns]"
       ]
      }
     ],
     "prompt_number": 25
    },
    {
     "cell_type": "markdown",
     "metadata": {},
     "source": [
      "#### Problem 2(b)\n",
      "\n",
      "Graphically display the distribution of income per person across all countries in the world for any given year (e.g. 2000).  What kind of plot would be best? "
     ]
    },
    {
     "cell_type": "code",
     "collapsed": false,
     "input": [
      "for i in range(1990, 2000):\n",
      "    plt.figure(i)\n",
      "    plt.suptitle(str(i))\n",
      "    income_per_person[i].hist() "
     ],
     "language": "python",
     "metadata": {},
     "outputs": [
      {
       "metadata": {},
       "output_type": "display_data",
       "png": "[encoded data removed]",
       "text": [
        "<matplotlib.figure.Figure at 0x20dc3400>"
       ]
      },
      {
       "metadata": {},
       "output_type": "display_data",
       "png": "[encoded data removed]",
       "text": [
        "<matplotlib.figure.Figure at 0x103e8438>"
       ]
      },
      {
       "metadata": {},
       "output_type": "display_data",
       "png": "[encoded data removed]",
       "text": [
        "<matplotlib.figure.Figure at 0x12aafef0>"
       ]
      },
      {
       "metadata": {},
       "output_type": "display_data",
       "png": "[encoded data removed]",
       "text": [
        "<matplotlib.figure.Figure at 0x15f10fd0>"
       ]
      },
      {
       "metadata": {},
       "output_type": "display_data",
       "png": "[encoded data removed]",
       "text": [
        "<matplotlib.figure.Figure at 0x14e0f470>"
       ]
      },
      {
       "metadata": {},
       "output_type": "display_data",
       "png": "[encoded data removed]",
       "text": [
        "<matplotlib.figure.Figure at 0x13b050b8>"
       ]
      },
      {
       "metadata": {},
       "output_type": "display_data",
       "png": "[encoded data removed]",
       "text": [
        "<matplotlib.figure.Figure at 0x12ca6860>"
       ]
      },
      {
       "metadata": {},
       "output_type": "display_data",
       "png": "[encoded data removed]",
       "text": [
        "<matplotlib.figure.Figure at 0x11d142e8>"
       ]
      },
      {
       "metadata": {},
       "output_type": "display_data",
       "png": "[encoded data removed]",
       "text": [
        "<matplotlib.figure.Figure at 0xe36aac8>"
       ]
      },
      {
       "metadata": {},
       "output_type": "display_data",
       "png": "[encoded data removed]",
       "text": [
        "<matplotlib.figure.Figure at 0x20edbd30>"
       ]
      }
     ],
     "prompt_number": 28
    },
    {
     "cell_type": "markdown",
     "metadata": {},
     "source": [
      "#### Problem 2(c)\n",
      "\n",
      "Write a function to merge the `countries` and `income` data sets for any given year. "
     ]
    },
    {
     "cell_type": "code",
     "collapsed": false,
     "input": [
      "\"\"\"\n",
      "Function\n",
      "--------\n",
      "mergeByYear\n",
      "\n",
      "Return a merged DataFrame containing the income, \n",
      "country name and region for a given year.\n",
      "\n",
      "Parameters\n",
      "----------\n",
      "year : int\n",
      "    The year of interest\n",
      "\n",
      "Returns\n",
      "-------\n",
      "a DataFrame\n",
      "   A pandas DataFrame with three columns titled \n",
      "   'Country', 'Region', and 'Income'. \n",
      "\n",
      "Example\n",
      "-------\n",
      ">>> mergeByYear(2010)\n",
      "\"\"\"\n",
      "#your code here\n",
      "\n",
      "# print income_per_person[\"gdp pc test\"]\n",
      "def mergeByYear(year):\n",
      "    ret = pd.merge(income_per_person, countries, left_on=\"gdp pc test\", right_on=\"Country\")\n",
      "    r = ret[[\"Country\", \"Region\", year]]\n",
      "    r.columns = [\"Country\", \"Region\", \"income\"]\n",
      "    return r\n"
     ],
     "language": "python",
     "metadata": {},
     "outputs": [
      {
       "html": [
        "<div style=\"max-height:1000px;max-width:1500px;overflow:auto;\">\n",
        "<table border=\"1\" class=\"dataframe\">\n",
        "  <thead>\n",
        "    <tr style=\"text-align: right;\">\n",
        "      <th></th>\n",
        "      <th>Country</th>\n",
        "      <th>Region</th>\n",
        "      <th>income</th>\n",
        "    </tr>\n",
        "  </thead>\n",
        "  <tbody>\n",
        "    <tr>\n",
        "      <th>0</th>\n",
        "      <td> Afghanistan</td>\n",
        "      <td>   ASIA</td>\n",
        "      <td>   709.504942</td>\n",
        "    </tr>\n",
        "    <tr>\n",
        "      <th>1</th>\n",
        "      <td>     Albania</td>\n",
        "      <td> EUROPE</td>\n",
        "      <td>  3824.847995</td>\n",
        "    </tr>\n",
        "    <tr>\n",
        "      <th>2</th>\n",
        "      <td>     Algeria</td>\n",
        "      <td> AFRICA</td>\n",
        "      <td>  5244.509612</td>\n",
        "    </tr>\n",
        "    <tr>\n",
        "      <th>3</th>\n",
        "      <td>     Andorra</td>\n",
        "      <td> EUROPE</td>\n",
        "      <td> 28511.183263</td>\n",
        "    </tr>\n",
        "    <tr>\n",
        "      <th>4</th>\n",
        "      <td>      Angola</td>\n",
        "      <td> AFRICA</td>\n",
        "      <td>  2777.417631</td>\n",
        "    </tr>\n",
        "  </tbody>\n",
        "</table>\n",
        "</div>"
       ],
       "metadata": {},
       "output_type": "pyout",
       "prompt_number": 64,
       "text": [
        "       Country  Region        income\n",
        "0  Afghanistan    ASIA    709.504942\n",
        "1      Albania  EUROPE   3824.847995\n",
        "2      Algeria  AFRICA   5244.509612\n",
        "3      Andorra  EUROPE  28511.183263\n",
        "4       Angola  AFRICA   2777.417631"
       ]
      }
     ],
     "prompt_number": 64
    },
    {
     "cell_type": "markdown",
     "metadata": {},
     "source": [
      "#### Problem 2(d) \n",
      "\n",
      "Use exploratory data analysis tools such as histograms and boxplots to explore the distribution of the income per person by region data set from 2(c) for a given year. Describe how these change through the recent years?\n",
      "\n",
      "**Hint**: Use a `for` loop to consider multiple years.  "
     ]
    },
    {
     "cell_type": "code",
     "collapsed": false,
     "input": [
      "d = {}\n",
      "for i in xrange(2000,2003):\n",
      "    ret = mergeByYear(i)\n",
      "    for row in ret.iterrows():\n",
      "        if not i in d:\n",
      "            d[i] = {}\n",
      "        if not row[1][\"Region\"] in d[i]:\n",
      "            d[i][row[1][\"Region\"]] = []\n",
      "        d[i][row[1][\"Region\"]].append(row[1][\"income\"])\n",
      "\n",
      "for el in d:\n",
      "    plt.figure()\n",
      "    plt.ylabel('Income')\n",
      "    plt.xlabel(\"Region\")\n",
      "    data = []\n",
      "    ticks = set()\n",
      "    for el2 in d[el]:\n",
      "        data.append(map(float, d[el][el2]))\n",
      "        ticks.add(el2)\n",
      "    plt.boxplot(data)\n",
      "    plt.xticks([1,2,3,4,5,6], list(ticks), rotation=\"45\")\n",
      "    \n",
      "                \n",
      "            \n",
      "        \n",
      "\n",
      "    \n",
      "    "
     ],
     "language": "python",
     "metadata": {},
     "outputs": [
      {
       "metadata": {},
       "output_type": "display_data",
       "png": "[encoded data removed]",
       "text": [
        "<matplotlib.figure.Figure at 0x10db4e950>"
       ]
      },
      {
       "metadata": {},
       "output_type": "display_data",
       "png": "[encoded data removed]",
       "text": [
        "<matplotlib.figure.Figure at 0x10d7d4890>"
       ]
      },
      {
       "metadata": {},
       "output_type": "display_data",
       "png": "[encoded data removed]",
       "text": [
        "<matplotlib.figure.Figure at 0x10ccf2a90>"
       ]
      }
     ],
     "prompt_number": 110
    },
    {
     "cell_type": "markdown",
     "metadata": {},
     "source": [
      "## Discussion for Problem 2\n",
      "\n",
      "*Write a brief discussion of your conclusions to the questions and tasks above in 100 words or less.*\n",
      "\n",
      "---\n"
     ]
    },
    {
     "cell_type": "markdown",
     "metadata": {},
     "source": [
      "## Problem 3\n",
      "\n",
      "In general, if group A has larger values than group B on average, does this mean the largest values are from group A? Discuss after completing each of the problems below. "
     ]
    },
    {
     "cell_type": "markdown",
     "metadata": {},
     "source": [
      "#### Problem 3(a)\n",
      "\n",
      "Assume you have two list of numbers, X and Y, with distribution approximately normal. X and Y have standard deviation equal to 1, but the average of X is different from the average of Y.  If the difference in the average of X and the average of Y is larger than 0, how does the proportion of X > a compare to the proportion of Y > a? "
     ]
    },
    {
     "cell_type": "markdown",
     "metadata": {},
     "source": [
      "Write a function that analytically calculates the ratio of these two proportions: Pr(X > a)/Pr(Y > a) as function of the difference in the average of X and the average of Y. \n",
      "\n",
      "**Hint**: Use the `scipy.stats` module for useful functions related to a normal random variable such as the probability density function, cumulative distribution function and survival function. \n",
      "\n",
      "**Update**: Assume Y is normally distributed with mean equal to 0. "
     ]
    },
    {
     "cell_type": "markdown",
     "metadata": {},
     "source": [
      "Show the curve for different values of a (a = 2,3,4 and 5)."
     ]
    },
    {
     "cell_type": "code",
     "collapsed": false,
     "input": [
      "\"\"\"\n",
      "Function\n",
      "--------\n",
      "ratioNormals\n",
      "\n",
      "Return ratio of these two proportions: \n",
      "    Pr(X > a)/Pr(Y > a) as function of \n",
      "    the difference in the average of X \n",
      "    and the average of Y. \n",
      "\n",
      "Parameters\n",
      "----------\n",
      "diff : difference in the average of X \n",
      "    and the average of Y. \n",
      "a : cutoff value\n",
      "\n",
      "Returns\n",
      "-------\n",
      "Returns ratio of these two proportions: \n",
      "    Pr(X > a)/Pr(Y > a)\n",
      "    \n",
      "Example\n",
      "-------\n",
      ">>> ratioNormals(diff = 1, a = 2)\n",
      "\"\"\"\n",
      "#your code here\n",
      "\n",
      "def ratioNormals(d, a):\n",
      "    mean, sig = d, 1\n",
      "    dis1 = np.random.normal(mean, sig, 1000)\n",
      "    dis2 = np.random.normal(0, sig, 1000)\n",
      "    greater1 = filter(lambda x: x > a, dis1)\n",
      "    greater2 = filter(lambda x: x > a, dis2)\n",
      "    return (len(greater1)/float(len(dis1)))/(float(len(greater2))/len(dis2))"
     ],
     "language": "python",
     "metadata": {},
     "outputs": [],
     "prompt_number": 117
    },
    {
     "cell_type": "code",
     "collapsed": false,
     "input": [
      "for el in [2,3,4,5]:\n",
      "    print(ratioNormals(el,2))"
     ],
     "language": "python",
     "metadata": {},
     "outputs": [
      {
       "output_type": "stream",
       "stream": "stdout",
       "text": [
        "19.72\n",
        "51.9375\n",
        "54.1111111111\n",
        "45.3181818182\n"
       ]
      }
     ],
     "prompt_number": 118
    },
    {
     "cell_type": "markdown",
     "metadata": {},
     "source": [
      "#### Problem 3(b)\n",
      "\n",
      "Now consider the distribution of income per person from two regions: Asia and South America. Estimate the average income per person across the countries in those two regions. Which region has the larger average of income per person across the countries in that region? \n",
      "\n",
      "**Update**: Use the year 2012. "
     ]
    },
    {
     "cell_type": "code",
     "collapsed": false,
     "input": [
      "incomes_per_year = mergeByYear(2012)\n",
      "print incomes_per_year.groupby(\"Region\").mean()\n",
      "print incomes_per_year.groupby(\"Region\").median()"
     ],
     "language": "python",
     "metadata": {},
     "outputs": [
      {
       "output_type": "stream",
       "stream": "stdout",
       "text": [
        "                     income\n",
        "Region                     \n",
        "AFRICA          3673.283388\n",
        "ASIA           14510.041383\n",
        "EUROPE         22744.534788\n",
        "NORTH AMERICA  12543.694185\n",
        "OCEANIA         9330.813908\n",
        "SOUTH AMERICA   9471.469849\n",
        "                     income\n",
        "Region                     \n",
        "AFRICA          1728.478474\n",
        "ASIA            6088.665281\n",
        "EUROPE         21811.330246\n",
        "NORTH AMERICA  10387.083177\n",
        "OCEANIA         4564.006517\n",
        "SOUTH AMERICA   9128.688126\n"
       ]
      }
     ],
     "prompt_number": 126
    },
    {
     "cell_type": "markdown",
     "metadata": {},
     "source": [
      "#### Problem 3(c) \n",
      "\n",
      "Calculate the proportion of countries with income per person that is greater than 10,000 dollars. Which region has a larger proportion of countries with income per person greater than 10,000 dollars? If the answer here is different from the answer in 3(b), explain why in light of your answer to 3(a).\n",
      "\n",
      "**Update**: Use the year 2012. "
     ]
    },
    {
     "cell_type": "code",
     "collapsed": false,
     "input": [
      "#your code here\n",
      "l = filter(lambda x: x > 10000, incomes_per_year[\"income\"])\n",
      "float(len(l))/len(incomes_per_year[\"income\"])*100\n"
     ],
     "language": "python",
     "metadata": {},
     "outputs": [
      {
       "metadata": {},
       "output_type": "pyout",
       "prompt_number": 136,
       "text": [
        "39.548022598870055"
       ]
      }
     ],
     "prompt_number": 136
    },
    {
     "cell_type": "markdown",
     "metadata": {},
     "source": [
      "#### Problem 3(d)\n",
      "\n",
      "**For AC209 Students**: Re-run this analysis in Problem 3 but compute the average income per person for each region, instead of the average of the reported incomes per person across countries in the region. Why are these two different? Hint: use this [data set](https://spreadsheets.google.com/pub?key=phAwcNAVuyj0XOoBL_n5tAQ&gid=0). "
     ]
    },
    {
     "cell_type": "code",
     "collapsed": false,
     "input": [
      "#your code here"
     ],
     "language": "python",
     "metadata": {},
     "outputs": [],
     "prompt_number": 16
    },
    {
     "cell_type": "markdown",
     "metadata": {},
     "source": [
      "## Discussion for Problem 3\n",
      "\n",
      "*Write a brief discussion of your conclusions to the questions and tasks above in 100 words or less.*\n",
      "\n",
      "---\n"
     ]
    }
   ],
   "metadata": {}
  }
 ]
}